{
 "cells": [
  {
   "cell_type": "markdown",
   "metadata": {},
   "source": [
    "# describes rm_compositions of examples,include: dataset, principles,..."
   ]
  }
 ],
 "metadata": {
  "language_info": {
   "name": "python"
  }
 },
 "nbformat": 4,
 "nbformat_minor": 2
}
