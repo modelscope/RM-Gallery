{
 "cells": [
  {
   "cell_type": "code",
   "execution_count": null,
   "metadata": {},
   "outputs": [],
   "source": [
    "#advanced features, including:\n",
    "# coding style\n",
    "# data\n",
    "## build your own dataset\n",
    "## build your own data op\n",
    "# build your own rm\n",
    "## build normal rm\n",
    "## build reasoning rm\n",
    "## build principled rm\n",
    "# build your own rm_composition\n",
    "## build your own rm_router"
   ]
  }
 ],
 "metadata": {
  "language_info": {
   "name": "python"
  }
 },
 "nbformat": 4,
 "nbformat_minor": 2
}
