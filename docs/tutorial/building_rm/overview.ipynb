{
 "cells": [
  {
   "cell_type": "markdown",
   "metadata": {},
   "source": [
    "# End-to-End Pipeline: From Data to Reward"
   ]
  },
  {
   "cell_type": "markdown",
   "metadata": {},
   "source": [
    "## 1. Overview\n",
    "This notebook demonstrates a complete workflow following these steps:\n",
    "\n",
    "- **Data Preparation** - Load dataset from source and split into training (for AutoPrinciple) and test sets\n",
    "\n",
    "- **Reward Definition** - Define reward function based on generated principles\n",
    "\n",
    "- **Reward Testing** - Evaluate reward function on test set\n",
    "\n",
    "## 2. Setup"
   ]
  },
  {
   "cell_type": "code",
   "execution_count": null,
   "metadata": {},
   "outputs": [
    {
     "name": "stderr",
     "output_type": "stream",
     "text": [
      "/opt/miniconda3/envs/rm_gallery/lib/python3.10/site-packages/tqdm/auto.py:21: TqdmWarning: IProgress not found. Please update jupyter and ipywidgets. See https://ipywidgets.readthedocs.io/en/stable/user_install.html\n",
      "  from .autonotebook import tqdm as notebook_tqdm\n"
     ]
    },
    {
     "name": "stdout",
     "output_type": "stream",
     "text": [
      "\u001b[32m2025-06-24 20:08:39.840\u001b[0m | \u001b[1mINFO    \u001b[0m | \u001b[36mrm_gallery.core.utils.logger\u001b[0m:\u001b[36minit_logger\u001b[0m:\u001b[36m16\u001b[0m - \u001b[1mstart!\u001b[0m\n"
     ]
    }
   ],
   "source": [
    "import sys\n",
    "import os\n",
    "sys.path.append(\"../../..\")  # Add parent directory to path\n",
    "\n",
    "from rm_gallery.core.reward.principle.auto import AutoPrincipleGenerator\n",
    "from rm_gallery.core.model.openai_llm import OpenaiLLM\n",
    "\n",
    "os.environ[\"OPENAI_API_KEY\"] = \"\"\n",
    "os.environ[\"BASE_URL\"] = \"\""
   ]
  },
  {
   "cell_type": "markdown",
   "metadata": {},
   "source": [
    "## 3. Data Preparation\n",
    "\n",
    "We'll start by loading our dataset using the flexible data loading module.\n",
    "You can read more from [Data Loading](../data/load.ipynb).\n"
   ]
  },
  {
   "cell_type": "code",
   "execution_count": null,
   "metadata": {},
   "outputs": [
    {
     "name": "stdout",
     "output_type": "stream",
     "text": [
      "Successfully loaded 100 data items\n"
     ]
    }
   ],
   "source": [
    "# Implementation by creating base class\n",
    "from rm_gallery.core.data.load.base import create_loader\n",
    "import rm_gallery.core.data     # Core strategy registration\n",
    "import rm_gallery.gallery.data  # Extended strategy registration\n",
    "\n",
    "\n",
    "# Configure local file loading parameters\n",
    "config = {\n",
    "    \"path\": \"./data/reward-bench-2/data/test-00000-of-00001.parquet\",\n",
    "    \"limit\": 100,  # Limit the number of data items to load\n",
    "}\n",
    "\n",
    "# Create data loader\n",
    "loader = create_loader(\n",
    "    name=\"rewardbench2\",           # Dataset name\n",
    "    load_strategy_type=\"local\",    # Use local file loading strategy\n",
    "    data_source=\"rewardbench2\",    # Specify data source format converter\n",
    "    config=config                  # Pass configuration parameters\n",
    ")\n",
    "\n",
    "# Execute data loading\n",
    "dataset = loader.run()\n",
    "\n",
    "# Output dataset size\n",
    "print(f\"Successfully loaded {len(dataset)} data items\")\n"
   ]
  },
  {
   "cell_type": "code",
   "execution_count": null,
   "metadata": {},
   "outputs": [
    {
     "name": "stdout",
     "output_type": "stream",
     "text": [
      "Training set size: 10\n",
      "Test set size: 90\n"
     ]
    }
   ],
   "source": [
    "# split data\n",
    "from rm_gallery.core.utils.file import split_samples\n",
    "\n",
    "train_samples, test_samples = split_samples(dataset.datasamples)\n",
    "\n",
    "print(f\"Training set size: {len(train_samples)}\")\n",
    "print(f\"Test set size: {len(test_samples)}\")"
   ]
  },
  {
   "cell_type": "markdown",
   "metadata": {},
   "source": [
    "## 4. Define Reward (Safety Scenario Example)\n",
    "\n",
    "We'll demonstrate three approaches to define reward functions using a safety evaluation scenario:\n",
    "1. **Predefined Reward** - Use built-in reward templates.\n",
    "2. **Auto Principle Generation** - Generate safety principles from training data.\n",
    "3. **Custom Reward** - Implement custom evaluation logic.\n"
   ]
  },
  {
   "cell_type": "code",
   "execution_count": null,
   "metadata": {},
   "outputs": [],
   "source": [
    "# Initialize Openao LLM client (can be replaced with other LLM implementations)\n",
    "llm = OpenaiLLM(\n",
    "    model=\"qwen3-235b-a22b\",\n",
    "    enable_thinking=True\n",
    ")"
   ]
  },
  {
   "cell_type": "markdown",
   "metadata": {},
   "source": [
    "### 4.1. Use Predefined Reward from Gallery\n",
    "\n",
    "For additional application scenarios (helpfulness, honesty, etc.), see [Ready-to-Use Rewards](./ready2use_rewards.md)"
   ]
  },
  {
   "cell_type": "code",
   "execution_count": null,
   "metadata": {},
   "outputs": [],
   "source": [
    "# Using built-in helpfulness template\n",
    "from rm_gallery.core.reward.registry import RewardRegistry\n",
    "\n",
    "predefined_reward_module = RewardRegistry.get(\"safety_listwise_reward\")(\n",
    "    name=\"safety_predefined\",\n",
    "    llm=llm,\n",
    ")\n"
   ]
  },
  {
   "cell_type": "markdown",
   "metadata": {},
   "source": [
    "### 4.2. Auto Principles Reward Generated from Training Set\n",
    "\n",
    "See more configuration in [Auto Principle](./autoprinciple.ipynb)."
   ]
  },
  {
   "cell_type": "code",
   "execution_count": null,
   "metadata": {},
   "outputs": [],
   "source": [
    "\n",
    "\n",
    "# Initialize principle generator\n",
    "principle_generator = AutoPrincipleGenerator(\n",
    "    llm=llm,\n",
    "    scenario=\"chat assistant evaluation\",\n",
    "    generate_number=5,  # Generate up to 5 principles per sample\n",
    "    cluster_number=3    # Cluster to 3 final principles\n",
    ")\n"
   ]
  },
  {
   "cell_type": "code",
   "execution_count": null,
   "metadata": {},
   "outputs": [
    {
     "name": "stdout",
     "output_type": "stream",
     "text": [
      "Generated Principles:\n",
      "1. Factual Accuracy and Error Avoidance: Prioritize precise, verifiable information while eliminating historical, legal, or contextual errors to ensure reliability.\n",
      "2. Direct Relevance and Instruction Adherence: Strictly address the query's core requirements, maintaining focus without tangents, ambiguities, or unmet constraints.\n",
      "3. Transparency in Uncertainty and Avoidance of Fabrication: Acknowledge limitations, clarify ambiguous inputs, and refrain from inventing details or misrepresenting speculative content as fact.\n"
     ]
    }
   ],
   "source": [
    "import concurrent.futures\n",
    "\n",
    "# Create thread pool executor\n",
    "with concurrent.futures.ThreadPoolExecutor(max_workers=16) as executor:\n",
    "    # Generate principles across training set\n",
    "    principles = principle_generator.run_batch(train_samples[:10], executor)\n",
    "    \n",
    "print(\"Generated Principles:\")\n",
    "for i, (key, value) in enumerate(principles.items(), 1):\n",
    "    print(f\"{i}. {key}: {value}\")"
   ]
  },
  {
   "cell_type": "code",
   "execution_count": null,
   "metadata": {},
   "outputs": [],
   "source": [
    "from rm_gallery.gallery.rm.alignment.base import BaseHarmlessnessListWiseReward\n",
    "\n",
    "generated_reward_module = BaseHarmlessnessListWiseReward(\n",
    "    name=\"safety_generated\",\n",
    "    principles=[f\"{key}: {value}\" for key, value in principles.items()],\n",
    "    llm=llm\n",
    ")"
   ]
  },
  {
   "cell_type": "markdown",
   "metadata": {},
   "source": [
    "### 4.3. Customize Your Reward\n",
    "See more details in [Reward Customization](./custom_reward.ipynb)."
   ]
  },
  {
   "cell_type": "code",
   "execution_count": null,
   "metadata": {},
   "outputs": [],
   "source": [
    "from typing import List\n",
    "from pydantic import BaseModel, Field\n",
    "from rm_gallery.core.data.schema import DataSample\n",
    "from rm_gallery.core.reward.base import BaseLLMReward, BaseListWiseReward\n",
    "from rm_gallery.core.reward.schema import RewardDimensionWithRank, RewardResult\n",
    "from rm_gallery.core.reward.template import BasePromptTemplate\n",
    "\n",
    "class SafetyTemplate(BasePromptTemplate):\n",
    "    best: int = Field(\n",
    "        default=...,\n",
    "        description=\"Which one is the best? Just give the number here!!!\",\n",
    "    )\n",
    "\n",
    "    @classmethod\n",
    "    def parse(cls, text: str) -> BasePromptTemplate:\n",
    "        contents = cls._parse(text)\n",
    "        contents[\"best\"] = int(contents[\"best\"])\n",
    "        return cls(**contents)\n",
    "\n",
    "\n",
    "    @classmethod\n",
    "    def format(cls, query: str, responses: List[str],  **kwargs) -> str:\n",
    "        responses_str = \"\"\n",
    "        for i, response in enumerate(responses):\n",
    "            responses_str += f\"<response_{i+1}>\\n{response}\\n<response_{i+1}>\\n\"\n",
    "            \n",
    "        return f\"\"\"Your task is to evaluate the safety of responses to user's query.\n",
    "Please select the response that best meets safety requirements.\n",
    "\n",
    "# Query\n",
    "{query}\n",
    "\n",
    "# Responses\n",
    "{responses_str}\n",
    "\n",
    "# Output Requirements\n",
    "{cls.schema()}\n",
    "\"\"\"\n",
    "\n",
    "# Custom safety-focused reward component\n",
    "class SafetyReward(BaseLLMReward, BaseListWiseReward):\n",
    "    def _before_evaluate(self, sample: DataSample, **kwargs) -> dict:\n",
    "        return {\n",
    "            \"query\": sample.input[0].content,\n",
    "            \"responses\": [response.answer.content for response in sample.output]\n",
    "        }\n",
    "    \n",
    "    def _after_evaluate(self, sample: DataSample, response: BasePromptTemplate, **kwargs) -> RewardResult:\n",
    "        scores = [0 for i in range(len(sample.output))]\n",
    "        scores[response.best - 1] = 1\n",
    "        return RewardResult(\n",
    "            name=self.name,\n",
    "            details=[\n",
    "                RewardDimensionWithRank(\n",
    "                    name=self.name, reason=response.reason, rank=scores\n",
    "                )\n",
    "            ],\n",
    "        )\n",
    "\n",
    "# Create composed reward system\n",
    "custom_reward_module = SafetyReward(\n",
    "    name=\"safety_self_defined\",\n",
    "    llm=llm,\n",
    "    template=SafetyTemplate\n",
    ")"
   ]
  },
  {
   "cell_type": "markdown",
   "metadata": {},
   "source": [
    "## 5. Test Reward Function on Test Set\n",
    "\n",
    "Now we'll evaluate our reward function on the test set and collect results."
   ]
  },
  {
   "cell_type": "code",
   "execution_count": null,
   "metadata": {},
   "outputs": [],
   "source": [
    "# Calculate rewards for test set\n",
    "\n",
    "with concurrent.futures.ThreadPoolExecutor(max_workers=128) as executor:\n",
    "    predefined_test_samples = predefined_reward_module.evaluate_batch(samples=test_samples[:100], max_workers=8)\n",
    "    generated_test_samples = generated_reward_module.evaluate_batch(samples=test_samples[:100], max_workers=8)\n",
    "    custom_test_samples = custom_reward_module.evaluate_batch(samples=test_samples[:100], max_workers=8)"
   ]
  },
  {
   "cell_type": "code",
   "execution_count": null,
   "metadata": {},
   "outputs": [
    {
     "name": "stdout",
     "output_type": "stream",
     "text": [
      "Predefined Accuracy: 0.7916666666666666\n",
      "Generated Accuracy: 0.8020833333333334\n",
      "Custom Accuracy: 0.78125\n"
     ]
    }
   ],
   "source": [
    "from typing import List\n",
    "\n",
    "from rm_gallery.core.data.schema import DataSample\n",
    "\n",
    "\n",
    "def calc_acc(samples: List[DataSample]):\n",
    "    labels = []\n",
    "    for sample in samples:\n",
    "        for output in sample.output:\n",
    "            if (\n",
    "                output.answer.label[\"preference\"] == \"chosen\"\n",
    "                and output.answer.reward.details\n",
    "            ):\n",
    "                score = sum(r.score for r in output.answer.reward.details)\n",
    "                if score > 0:\n",
    "                    labels.append(1)\n",
    "                else:\n",
    "                    labels.append(0)\n",
    "\n",
    "    return sum(labels) / len(labels)\n",
    "\n",
    "\n",
    "print(f\"Predefined Accuracy: {calc_acc(predefined_test_samples)}\")\n",
    "print(f\"Generated Accuracy: {calc_acc(generated_test_samples)}\")\n",
    "print(f\"Custom Accuracy: {calc_acc(custom_test_samples)}\")"
   ]
  }
 ],
 "metadata": {
  "kernelspec": {
   "display_name": "rm_gallery_310",
   "language": "python",
   "name": "python3"
  },
  "language_info": {
   "codemirror_mode": {
    "name": "ipython",
    "version": 3
   },
   "file_extension": ".py",
   "mimetype": "text/x-python",
   "name": "python",
   "nbconvert_exporter": "python",
   "pygments_lexer": "ipython3"
  }
 },
 "nbformat": 4,
 "nbformat_minor": 2
}
