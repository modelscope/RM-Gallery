{
 "cells": [
  {
   "cell_type": "markdown",
   "metadata": {},
   "source": [
    "# Evaluation Pipeline\n",
    "\n",
    "This notebook demonstrates how to use RM-Gallery's evaluation pipeline for benchmarking reward models."
   ]
  },
  {
   "cell_type": "markdown",
   "metadata": {},
   "source": [
    "## Setup\n",
    "\n",
    "Import the necessary evaluation modules:"
   ]
  },
  {
   "cell_type": "code",
   "execution_count": null,
   "metadata": {},
   "outputs": [],
   "source": [
    "from rm_gallery.gallery.evaluation import RewardBench, JudgeBench\n",
    "from rm_gallery.gallery.rm import RewardModel\n",
    "import matplotlib.pyplot as plt\n",
    "import seaborn as sns"
   ]
  },
  {
   "cell_type": "markdown",
   "metadata": {},
   "source": [
    "## Initialize Reward Model\n",
    "\n",
    "Load a reward model for evaluation:"
   ]
  },
  {
   "cell_type": "code",
   "execution_count": null,
   "metadata": {},
   "outputs": [],
   "source": [
    "# Load reward model\n",
    "rm = RewardModel(\n",
    "    model_name=\"Skywork/Skywork-Reward-Llama-3.1-8B\",\n",
    "    device=\"cuda\",\n",
    "    batch_size=8\n",
    ")\n",
    "\n",
    "print(f\"Model loaded: {rm.model_name}\")"
   ]
  },
  {
   "cell_type": "markdown",
   "metadata": {},
   "source": [
    "## RewardBench Evaluation\n",
    "\n",
    "Evaluate on the RewardBench benchmark:"
   ]
  },
  {
   "cell_type": "code",
   "execution_count": null,
   "metadata": {},
   "outputs": [],
   "source": [
    "# Initialize RewardBench\n",
    "rewardbench = RewardBench(\n",
    "    benchmark_name=\"reward-bench-2\",\n",
    "    subset=[\"chat\", \"chat_hard\", \"safety\", \"reasoning\"]\n",
    ")\n",
    "\n",
    "# Run evaluation\n",
    "results = rewardbench.evaluate(rm)\n",
    "\n",
    "# Display results\n",
    "print(\"\\nRewardBench Results:\")\n",
    "print(\"=\" * 50)\n",
    "for category, score in results.items():\n",
    "    print(f\"{category:20s}: {score:.2f}%\")"
   ]
  },
  {
   "cell_type": "markdown",
   "metadata": {},
   "source": [
    "## JudgeBench Evaluation\n",
    "\n",
    "Evaluate on the JudgeBench benchmark for judge models:"
   ]
  },
  {
   "cell_type": "code",
   "execution_count": null,
   "metadata": {},
   "outputs": [],
   "source": [
    "# Initialize JudgeBench\n",
    "judgebench = JudgeBench(benchmark_name=\"judgebench\")\n",
    "\n",
    "# Run evaluation\n",
    "judge_results = judgebench.evaluate(rm)\n",
    "\n",
    "# Display results\n",
    "print(\"\\nJudgeBench Results:\")\n",
    "print(\"=\" * 50)\n",
    "print(f\"Overall Accuracy: {judge_results['accuracy']:.2f}%\")\n",
    "print(f\"Consistency Score: {judge_results['consistency']:.2f}%\")"
   ]
  },
  {
   "cell_type": "markdown",
   "metadata": {},
   "source": [
    "## Visualize Results\n",
    "\n",
    "Create visualizations of the evaluation results:"
   ]
  },
  {
   "cell_type": "code",
   "execution_count": null,
   "metadata": {},
   "outputs": [],
   "source": [
    "# Prepare data for visualization\n",
    "categories = list(results.keys())\n",
    "scores = list(results.values())\n",
    "\n",
    "# Create bar plot\n",
    "plt.figure(figsize=(10, 6))\n",
    "sns.barplot(x=categories, y=scores, palette=\"viridis\")\n",
    "plt.title(\"RewardBench Performance by Category\", fontsize=16)\n",
    "plt.xlabel(\"Category\", fontsize=12)\n",
    "plt.ylabel(\"Accuracy (%)\", fontsize=12)\n",
    "plt.xticks(rotation=45)\n",
    "plt.tight_layout()\n",
    "plt.show()"
   ]
  },
  {
   "cell_type": "markdown",
   "metadata": {},
   "source": [
    "## Custom Evaluation Dataset\n",
    "\n",
    "Evaluate on your own custom dataset:"
   ]
  },
  {
   "cell_type": "code",
   "execution_count": null,
   "metadata": {},
   "outputs": [],
   "source": [
    "# Define custom evaluation dataset\n",
    "custom_data = [\n",
    "    {\n",
    "        \"prompt\": \"Explain quantum entanglement\",\n",
    "        \"chosen\": \"Quantum entanglement is a phenomenon where particles...\",\n",
    "        \"rejected\": \"It's a quantum thing.\"\n",
    "    },\n",
    "    {\n",
    "        \"prompt\": \"Write a Python function to sort a list\",\n",
    "        \"chosen\": \"def sort_list(lst):\\n    return sorted(lst)\",\n",
    "        \"rejected\": \"use sort()\"\n",
    "    }\n",
    "]\n",
    "\n",
    "# Evaluate\n",
    "correct = 0\n",
    "for item in custom_data:\n",
    "    score_chosen = rm.score(item[\"prompt\"], item[\"chosen\"])\n",
    "    score_rejected = rm.score(item[\"prompt\"], item[\"rejected\"])\n",
    "    if score_chosen > score_rejected:\n",
    "        correct += 1\n",
    "\n",
    "accuracy = (correct / len(custom_data)) * 100\n",
    "print(f\"\\nCustom Dataset Accuracy: {accuracy:.2f}%\")"
   ]
  },
  {
   "cell_type": "markdown",
   "metadata": {},
   "source": [
    "## Compare Multiple Models\n",
    "\n",
    "Compare performance across different reward models:"
   ]
  },
  {
   "cell_type": "code",
   "execution_count": null,
   "metadata": {},
   "outputs": [],
   "source": [
    "# Define models to compare\n",
    "model_names = [\n",
    "    \"Skywork/Skywork-Reward-Llama-3.1-8B\",\n",
    "    \"Ray2333/GRM-Llama3-8B-rewardmodel-ft\",\n",
    "    \"sfairXC/FsfairX-LLaMA3-RM-v0.1\"\n",
    "]\n",
    "\n",
    "# Evaluate each model\n",
    "comparison_results = {}\n",
    "for model_name in model_names:\n",
    "    print(f\"\\nEvaluating {model_name}...\")\n",
    "    test_rm = RewardModel(model_name=model_name, device=\"cuda\")\n",
    "    results = rewardbench.evaluate(test_rm)\n",
    "    comparison_results[model_name.split(\"/\")[-1]] = results[\"overall\"]\n",
    "\n",
    "# Display comparison\n",
    "print(\"\\nModel Comparison:\")\n",
    "print(\"=\" * 50)\n",
    "for model, score in comparison_results.items():\n",
    "    print(f\"{model:40s}: {score:.2f}%\")"
   ]
  },
  {
   "cell_type": "markdown",
   "metadata": {},
   "source": [
    "## Export Results\n",
    "\n",
    "Save evaluation results to a file:"
   ]
  },
  {
   "cell_type": "code",
   "execution_count": null,
   "metadata": {},
   "outputs": [],
   "source": [
    "import json\n",
    "\n",
    "# Save results\n",
    "output = {\n",
    "    \"model\": rm.model_name,\n",
    "    \"rewardbench\": results,\n",
    "    \"judgebench\": judge_results,\n",
    "    \"custom_accuracy\": accuracy\n",
    "}\n",
    "\n",
    "with open(\"evaluation_results.json\", \"w\") as f:\n",
    "    json.dump(output, f, indent=2)\n",
    "\n",
    "print(\"Results saved to evaluation_results.json\")"
   ]
  }
 ],
 "metadata": {
  "kernelspec": {
   "display_name": "Python 3",
   "language": "python",
   "name": "python3"
  },
  "language_info": {
   "codemirror_mode": {
    "name": "ipython",
    "version": 3
   },
   "file_extension": ".py",
   "mimetype": "text/x-python",
   "name": "python",
   "nbconvert_exporter": "python",
   "pygments_lexer": "ipython3"
  }
 },
 "nbformat": 4,
 "nbformat_minor": 4
}
